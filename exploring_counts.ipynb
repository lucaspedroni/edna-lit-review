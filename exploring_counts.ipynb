{
 "cells": [
  {
   "cell_type": "code",
   "execution_count": 16,
   "metadata": {},
   "outputs": [],
   "source": [
    "from collections import Counter\n",
    "\n",
    "journals = []\n",
    "year = []\n",
    "organisms = []\n",
    "countries = []\n",
    "biomes = []\n",
    "tech = []\n",
    "sample_microenv = []\n",
    "hotwords = []\n",
    "term_ids = []\n",
    "\n",
    "with open(\"relevant_metadata\", \"r\") as handle:\n",
    "    for line in handle:\n",
    "        line = line.strip(\"\\n\").split(\"\\t\")\n",
    "        journals.append(line[1])\n",
    "        year.append(line[2])\n",
    "        organisms.extend(line[3].split(\",\"))\n",
    "        countries.extend(line[4].split(\",\"))\n",
    "        biomes.extend(line[5].split(\",\"))\n",
    "        tech.extend(line[6].split(\",\"))\n",
    "        sample_microenv.extend(line[7].split(\",\"))\n",
    "        hotwords.extend(line[8].split(\",\"))\n",
    "        term_ids.extend(line[9].split(\",\"))\n",
    "\n",
    "term_names = {}\n",
    "with open(\"mesh_data.tab\", \"r\") as handle:\n",
    "    for line in handle:\n",
    "        line = line.strip(\"\\n\").split(\"\\t\")\n",
    "        term_names[line[0]] = line[1]"
   ]
  },
  {
   "cell_type": "code",
   "execution_count": 6,
   "metadata": {},
   "outputs": [
    {
     "name": "stdout",
     "output_type": "stream",
     "text": [
      "PloS one - 187\n",
      "Scientific reports - 81\n",
      "Molecular ecology resources - 74\n",
      "Applied and environmental microbiology - 66\n",
      "Environmental science &amp; technology - 59\n",
      "Molecular ecology - 42\n",
      "Ecology and evolution - 33\n",
      "Proceedings of the National Academy of Sciences of the United States of America - 31\n",
      "Journal of microbiological methods - 25\n",
      "Environmental microbiology - 25\n",
      "Methods in molecular biology (Clifton, N.J.) - 24\n",
      "Environment international - 19\n",
      "Applied microbiology and biotechnology - 18\n",
      "Frontiers in microbiology - 17\n",
      "The Science of the total environment - 15\n",
      "The Journal of eukaryotic microbiology - 15\n",
      "PeerJ - 15\n",
      "Genome - 13\n",
      "FEMS microbiology letters - 11\n",
      "Journal of fish biology - 11\n"
     ]
    }
   ],
   "source": [
    "curr_list = journals\n",
    "curr_list = Counter(curr_list)\n",
    "curr_list = [[key, val] for key, val in curr_list.items()]\n",
    "curr_list = sorted(curr_list, key = lambda curr_list: curr_list[1], reverse=True)\n",
    "\n",
    "for item in curr_list[0:20]:\n",
    "    print(f\"{item[0]} - {item[1]}\")"
   ]
  },
  {
   "cell_type": "code",
   "execution_count": 9,
   "metadata": {},
   "outputs": [
    {
     "name": "stdout",
     "output_type": "stream",
     "text": [
      "2019 - 319\n",
      "2018 - 233\n",
      "2016 - 130\n",
      "2017 - 130\n",
      "2015 - 57\n",
      "2014 - 53\n",
      "2013 - 43\n",
      "2012 - 41\n",
      "2009 - 38\n",
      "2010 - 35\n",
      "2005 - 30\n",
      "2008 - 29\n",
      "2011 - 28\n",
      "2007 - 23\n",
      "2003 - 23\n",
      "2006 - 22\n",
      "2004 - 22\n",
      "2001 - 18\n",
      "2002 - 15\n",
      "2000 - 10\n"
     ]
    }
   ],
   "source": [
    "curr_list = year\n",
    "curr_list = Counter(curr_list)\n",
    "curr_list = [[key, val] for key, val in curr_list.items() if key]\n",
    "curr_list = sorted(curr_list, key = lambda curr_list: curr_list[1], reverse=True)\n",
    "\n",
    "for item in curr_list[0:20]:\n",
    "    print(f\"{item[0]} - {item[1]}\")"
   ]
  },
  {
   "cell_type": "code",
   "execution_count": 18,
   "metadata": {},
   "outputs": [
    {
     "name": "stdout",
     "output_type": "stream",
     "text": [
      "bacteria - 162\n",
      "environmental samples - 145\n",
      "collection - 69\n",
      "escherichia - 58\n",
      "escherichia coli - 56\n",
      "metagenome - 43\n",
      "indicator - 42\n",
      "pseudomonas - 35\n",
      "proteobacteria - 31\n",
      "artificial - 30\n",
      "microbiota - 25\n",
      "viruses - 24\n",
      "streptomyces - 22\n",
      "foraminifera - 22\n",
      "archaea - 21\n",
      "metagenomes - 21\n",
      "gammaproteobacteria - 20\n",
      "plasmid - 20\n",
      "cyanobacteria - 20\n",
      "alphaproteobacteria - 19\n",
      "california - 17\n",
      "bacillus - 17\n",
      "synthetic - 16\n",
      "cercozoa - 14\n",
      "oncorhynchus - 13\n",
      "plasmids - 13\n",
      "cyprinus - 13\n",
      "cyprinus carpio - 13\n",
      "pseudomonas putida - 12\n",
      "enterococcus - 12\n"
     ]
    }
   ],
   "source": [
    "curr_list = organisms\n",
    "curr_list = Counter(curr_list)\n",
    "curr_list = [[key, val] for key, val in curr_list.items() if key]\n",
    "curr_list = sorted(curr_list, key = lambda curr_list: curr_list[1], reverse=True)\n",
    "\n",
    "for item in curr_list[0:30]:\n",
    "    print(f\"{item[0]} - {item[1]}\")"
   ]
  },
  {
   "cell_type": "code",
   "execution_count": 11,
   "metadata": {},
   "outputs": [
    {
     "name": "stdout",
     "output_type": "stream",
     "text": [
      "australia - 35\n",
      "japan - 27\n",
      "usa - 24\n",
      "china - 19\n",
      "south africa - 16\n",
      "new zealand - 13\n",
      "canada - 13\n",
      "switzerland - 12\n",
      "united states - 11\n",
      "spain - 10\n",
      "germany - 10\n",
      "singapore - 9\n",
      "brazil - 8\n",
      "denmark - 8\n",
      "norway - 8\n",
      "malaysia - 7\n",
      "sweden - 6\n",
      "uk - 6\n",
      "great britain - 5\n",
      "kazakhstan - 4\n"
     ]
    }
   ],
   "source": [
    "curr_list = countries\n",
    "curr_list = Counter(curr_list)\n",
    "curr_list = [[key, val] for key, val in curr_list.items() if key]\n",
    "curr_list = sorted(curr_list, key = lambda curr_list: curr_list[1], reverse=True)\n",
    "\n",
    "for item in curr_list[0:20]:\n",
    "    print(f\"{item[0]} - {item[1]}\")"
   ]
  },
  {
   "cell_type": "code",
   "execution_count": 12,
   "metadata": {},
   "outputs": [
    {
     "name": "stdout",
     "output_type": "stream",
     "text": [
      "marine - 214\n",
      "freshwater - 156\n",
      "forest - 37\n",
      "tropical - 36\n",
      "estuary - 17\n",
      "mountain - 16\n",
      "coral - 15\n",
      "coral reef - 11\n",
      "woodland - 11\n",
      "plankton - 9\n",
      "ice - 8\n",
      "estuaries - 7\n",
      "floodplain - 6\n",
      "wetland - 6\n",
      "boreal - 6\n",
      "desert - 6\n",
      "grassland - 5\n",
      "marsh - 3\n",
      "rainforest - 3\n",
      "boreal forest - 3\n"
     ]
    }
   ],
   "source": [
    "curr_list = biomes\n",
    "curr_list = Counter(curr_list)\n",
    "curr_list = [[key, val] for key, val in curr_list.items() if key]\n",
    "curr_list = sorted(curr_list, key = lambda curr_list: curr_list[1], reverse=True)\n",
    "\n",
    "for item in curr_list[0:20]:\n",
    "    print(f\"{item[0]} - {item[1]}\")"
   ]
  },
  {
   "cell_type": "code",
   "execution_count": 13,
   "metadata": {},
   "outputs": [
    {
     "name": "stdout",
     "output_type": "stream",
     "text": [
      "pcr - 324\n",
      "metabarcoding - 252\n",
      "16s - 145\n",
      "metagenomic - 134\n",
      "18s - 68\n",
      "coi - 46\n",
      "metagenome - 43\n",
      "barcoding - 37\n"
     ]
    }
   ],
   "source": [
    "curr_list = tech\n",
    "curr_list = Counter(curr_list)\n",
    "curr_list = [[key, val] for key, val in curr_list.items() if key]\n",
    "curr_list = sorted(curr_list, key = lambda curr_list: curr_list[1], reverse=True)\n",
    "\n",
    "for item in curr_list[0:20]:\n",
    "    print(f\"{item[0]} - {item[1]}\")"
   ]
  },
  {
   "cell_type": "code",
   "execution_count": 14,
   "metadata": {},
   "outputs": [
    {
     "name": "stdout",
     "output_type": "stream",
     "text": [
      "water - 399\n",
      "marine - 214\n",
      "soil - 183\n",
      "freshwater - 156\n",
      "sediment - 109\n",
      "sand - 11\n",
      "ice - 8\n",
      "feces - 4\n",
      "glacial - 4\n",
      "saltwater - 1\n"
     ]
    }
   ],
   "source": [
    "curr_list = sample_microenv\n",
    "curr_list = Counter(curr_list)\n",
    "curr_list = [[key, val] for key, val in curr_list.items() if key]\n",
    "curr_list = sorted(curr_list, key = lambda curr_list: curr_list[1], reverse=True)\n",
    "\n",
    "for item in curr_list[0:20]:\n",
    "    print(f\"{item[0]} - {item[1]}\")"
   ]
  },
  {
   "cell_type": "code",
   "execution_count": 15,
   "metadata": {},
   "outputs": [
    {
     "name": "stdout",
     "output_type": "stream",
     "text": [
      "fish - 231\n",
      "plants - 46\n",
      "mammals - 28\n",
      "amphibians - 21\n",
      "arthropods - 15\n",
      "insects - 14\n",
      "birds - 13\n",
      "reptiles - 7\n",
      "copepods - 4\n",
      "bryophytes - 2\n"
     ]
    }
   ],
   "source": [
    "curr_list = hotwords\n",
    "curr_list = Counter(curr_list)\n",
    "curr_list = [[key, val] for key, val in curr_list.items() if key]\n",
    "curr_list = sorted(curr_list, key = lambda curr_list: curr_list[1], reverse=True)\n",
    "\n",
    "for item in curr_list[0:20]:\n",
    "    print(f\"{item[0]} - {item[1]}\")"
   ]
  },
  {
   "cell_type": "code",
   "execution_count": 17,
   "metadata": {},
   "outputs": [
    {
     "name": "stdout",
     "output_type": "stream",
     "text": [
      "Animals - 317\n",
      "DNA - 278\n",
      "Phylogeny - 211\n",
      "Sequence Analysis, DNA - 190\n",
      "Molecular Sequence Data - 185\n",
      "Biodiversity - 163\n",
      "Ecosystem - 161\n",
      "Polymerase Chain Reaction - 157\n",
      "DNA, Bacterial - 137\n",
      "Environmental Monitoring - 130\n",
      "Bacteria - 116\n",
      "Metagenomics - 112\n",
      "RNA, Ribosomal, 16S - 102\n",
      "DNA Barcoding, Taxonomic - 92\n",
      "Soil Microbiology - 91\n",
      "Base Sequence - 90\n",
      "DNA, Ribosomal - 86\n",
      "DNA Primers - 82\n",
      "Gene Library - 78\n",
      "Geologic Sediments - 74\n"
     ]
    }
   ],
   "source": [
    "curr_list = term_ids\n",
    "curr_list = Counter(curr_list)\n",
    "curr_list = [[key, val] for key, val in curr_list.items() if key]\n",
    "curr_list = sorted(curr_list, key = lambda curr_list: curr_list[1], reverse=True)\n",
    "\n",
    "for item in curr_list[0:20]:\n",
    "    print(f\"{term_names[item[0]]} - {item[1]}\")"
   ]
  },
  {
   "cell_type": "code",
   "execution_count": null,
   "metadata": {},
   "outputs": [],
   "source": []
  }
 ],
 "metadata": {
  "kernelspec": {
   "display_name": "Python 3",
   "language": "python",
   "name": "python3"
  },
  "language_info": {
   "codemirror_mode": {
    "name": "ipython",
    "version": 3
   },
   "file_extension": ".py",
   "mimetype": "text/x-python",
   "name": "python",
   "nbconvert_exporter": "python",
   "pygments_lexer": "ipython3",
   "version": "3.6.8"
  }
 },
 "nbformat": 4,
 "nbformat_minor": 2
}
