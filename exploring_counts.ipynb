{
 "cells": [
  {
   "cell_type": "code",
   "execution_count": 1,
   "metadata": {},
   "outputs": [],
   "source": [
    "from collections import Counter\n",
    "\n",
    "journals = []\n",
    "year = []\n",
    "organisms = []\n",
    "countries = []\n",
    "biomes = []\n",
    "tech = []\n",
    "sample_microenv = []\n",
    "hotwords = []\n",
    "term_ids = []\n",
    "\n",
    "with open(\"clean_relevant_metadata\", \"r\") as handle:\n",
    "    for line in handle:\n",
    "        line = line.strip(\"\\n\").split(\"\\t\")\n",
    "        journals.append(line[1])\n",
    "        year.append(line[2])\n",
    "        organisms.extend(line[3].split(\",\"))\n",
    "        countries.extend(line[4].split(\",\"))\n",
    "        biomes.extend(line[5].split(\",\"))\n",
    "        tech.extend(line[6].split(\",\"))\n",
    "        sample_microenv.extend(line[7].split(\",\"))\n",
    "        hotwords.extend(line[8].split(\",\"))\n",
    "        term_ids.extend(line[9].split(\",\"))\n",
    "\n",
    "term_names = {}\n",
    "with open(\"mesh_data.tab\", \"r\") as handle:\n",
    "    for line in handle:\n",
    "        line = line.strip(\"\\n\").split(\"\\t\")\n",
    "        term_names[line[0]] = line[1]"
   ]
  },
  {
   "cell_type": "code",
   "execution_count": 2,
   "metadata": {},
   "outputs": [
    {
     "name": "stdout",
     "output_type": "stream",
     "text": [
      "PloS one - 115\n",
      "Molecular ecology resources - 51\n",
      "Applied and environmental microbiology - 50\n",
      "Scientific reports - 39\n",
      "Molecular ecology - 28\n",
      "Environmental science &amp; technology - 24\n",
      "Environmental microbiology - 22\n",
      "Ecology and evolution - 21\n",
      "Proceedings of the National Academy of Sciences of the United States of America - 17\n",
      "Methods in molecular biology (Clifton, N.J.) - 16\n",
      "Applied microbiology and biotechnology - 13\n",
      "Frontiers in microbiology - 13\n",
      "Journal of microbiological methods - 12\n",
      "FEMS microbiology letters - 11\n",
      "PeerJ - 11\n",
      "The Journal of eukaryotic microbiology - 9\n",
      "The ISME journal - 9\n",
      "FEMS microbiology ecology - 9\n",
      "Protist - 9\n",
      "Genome - 8\n"
     ]
    }
   ],
   "source": [
    "curr_list = journals\n",
    "curr_list = Counter(curr_list)\n",
    "curr_list = [[key, val] for key, val in curr_list.items()]\n",
    "curr_list = sorted(curr_list, key = lambda curr_list: curr_list[1], reverse=True)\n",
    "\n",
    "for item in curr_list[0:20]:\n",
    "    print(f\"{item[0]} - {item[1]}\")"
   ]
  },
  {
   "cell_type": "code",
   "execution_count": 3,
   "metadata": {},
   "outputs": [
    {
     "name": "stdout",
     "output_type": "stream",
     "text": [
      "2019 - 112\n",
      "2018 - 111\n",
      "2017 - 99\n",
      "2016 - 99\n",
      "2015 - 49\n",
      "2014 - 50\n",
      "2013 - 39\n",
      "2012 - 40\n",
      "2011 - 27\n",
      "2010 - 31\n",
      "2009 - 34\n",
      "2008 - 25\n",
      "2007 - 23\n",
      "2006 - 21\n",
      "2005 - 27\n",
      "2004 - 17\n",
      "2003 - 18\n",
      "2002 - 12\n",
      "2001 - 14\n",
      "2000 - 6\n",
      "1999 - 4\n",
      "1998 - 2\n",
      "1997 - 5\n",
      "1995 - 3\n",
      "1994 - 1\n",
      "1993 - 1\n",
      "1992 - 1\n"
     ]
    }
   ],
   "source": [
    "curr_list = year\n",
    "curr_list = Counter(curr_list)\n",
    "curr_list = [[key, val] for key, val in curr_list.items() if key]\n",
    "curr_list = sorted(curr_list, key = lambda curr_list: curr_list[0], reverse=True)\n",
    "\n",
    "for item in curr_list[0:30]:\n",
    "    print(f\"{item[0]} - {item[1]}\")"
   ]
  },
  {
   "cell_type": "code",
   "execution_count": 4,
   "metadata": {},
   "outputs": [
    {
     "name": "stdout",
     "output_type": "stream",
     "text": [
      "bacteria - 116\n",
      "environmental samples - 101\n",
      "escherichia - 43\n",
      "escherichia coli - 42\n",
      "collection - 41\n",
      "metagenome - 30\n",
      "proteobacteria - 26\n",
      "archaea - 19\n",
      "pseudomonas - 18\n",
      "foraminifera - 18\n",
      "artificial - 18\n",
      "metagenomes - 17\n",
      "plasmid - 17\n",
      "cyanobacteria - 17\n",
      "streptomyces - 16\n",
      "indicator - 16\n",
      "viruses - 16\n",
      "gammaproteobacteria - 12\n",
      "plasmids - 12\n",
      "synthetic - 12\n",
      "alphaproteobacteria - 11\n",
      "bacterium - 11\n",
      "electron - 11\n",
      "cercozoa - 10\n",
      "cyprinus - 10\n",
      "cyprinus carpio - 10\n",
      "microbiota - 9\n",
      "unidentified - 9\n",
      "betaproteobacteria - 8\n",
      "saccharomyces - 8\n"
     ]
    }
   ],
   "source": [
    "curr_list = organisms\n",
    "curr_list = Counter(curr_list)\n",
    "curr_list = [[key, val] for key, val in curr_list.items() if key]\n",
    "curr_list = sorted(curr_list, key = lambda curr_list: curr_list[1], reverse=True)\n",
    "\n",
    "for item in curr_list[0:30]:\n",
    "    print(f\"{item[0]} - {item[1]}\")"
   ]
  },
  {
   "cell_type": "code",
   "execution_count": 5,
   "metadata": {},
   "outputs": [
    {
     "name": "stdout",
     "output_type": "stream",
     "text": [
      "japan - 15\n",
      "usa - 14\n",
      "australia - 12\n",
      "china - 9\n",
      "canada - 9\n",
      "new zealand - 8\n",
      "united states - 7\n",
      "germany - 7\n",
      "denmark - 6\n",
      "norway - 6\n",
      "switzerland - 6\n",
      "spain - 6\n",
      "uk - 5\n",
      "south africa - 4\n",
      "brazil - 3\n",
      "united kingdom - 3\n",
      "iceland - 3\n",
      "malaysia - 3\n",
      "taiwan - 2\n",
      "sweden - 2\n"
     ]
    }
   ],
   "source": [
    "curr_list = countries\n",
    "curr_list = Counter(curr_list)\n",
    "curr_list = [[key, val] for key, val in curr_list.items() if key]\n",
    "curr_list = sorted(curr_list, key = lambda curr_list: curr_list[1], reverse=True)\n",
    "\n",
    "for item in curr_list[0:20]:\n",
    "    print(f\"{item[0]} - {item[1]}\")"
   ]
  },
  {
   "cell_type": "code",
   "execution_count": 11,
   "metadata": {},
   "outputs": [
    {
     "name": "stdout",
     "output_type": "stream",
     "text": [
      "marine - 144\n",
      "freshwater - 100\n",
      "tropical - 21\n",
      "forest - 20\n",
      "mountain - 12\n",
      "estuary - 8\n",
      "coral - 8\n",
      "coral reef - 6\n",
      "ice - 5\n",
      "plankton - 4\n",
      "grassland - 4\n",
      "desert - 4\n",
      "estuaries - 3\n",
      "wetland - 3\n",
      "marsh - 3\n",
      "boreal - 3\n",
      "floodplain - 2\n",
      "intertidal - 2\n",
      "rainforest - 2\n",
      "woodland - 2\n"
     ]
    }
   ],
   "source": [
    "curr_list = biomes\n",
    "curr_list = Counter(curr_list)\n",
    "curr_list = [[key, val] for key, val in curr_list.items() if key]\n",
    "curr_list = sorted(curr_list, key = lambda curr_list: curr_list[1], reverse=True)\n",
    "\n",
    "for item in curr_list[0:20]:\n",
    "    print(f\"{item[0]} - {item[1]}\")"
   ]
  },
  {
   "cell_type": "code",
   "execution_count": 12,
   "metadata": {},
   "outputs": [
    {
     "name": "stdout",
     "output_type": "stream",
     "text": [
      "pcr - 230\n",
      "metabarcoding - 127\n",
      "metagenomic - 102\n",
      "16s - 97\n",
      "18s - 40\n",
      "metagenome - 30\n",
      "barcoding - 26\n",
      "coi - 24\n"
     ]
    }
   ],
   "source": [
    "curr_list = tech\n",
    "curr_list = Counter(curr_list)\n",
    "curr_list = [[key, val] for key, val in curr_list.items() if key]\n",
    "curr_list = sorted(curr_list, key = lambda curr_list: curr_list[1], reverse=True)\n",
    "\n",
    "for item in curr_list[0:20]:\n",
    "    print(f\"{item[0]} - {item[1]}\")"
   ]
  },
  {
   "cell_type": "code",
   "execution_count": 13,
   "metadata": {},
   "outputs": [
    {
     "name": "stdout",
     "output_type": "stream",
     "text": [
      "water - 243\n",
      "marine - 144\n",
      "soil - 130\n",
      "freshwater - 100\n",
      "sediment - 71\n",
      "sand - 7\n",
      "ice - 5\n",
      "feces - 4\n",
      "glacial - 2\n",
      "saltwater - 1\n"
     ]
    }
   ],
   "source": [
    "curr_list = sample_microenv\n",
    "curr_list = Counter(curr_list)\n",
    "curr_list = [[key, val] for key, val in curr_list.items() if key]\n",
    "curr_list = sorted(curr_list, key = lambda curr_list: curr_list[1], reverse=True)\n",
    "\n",
    "for item in curr_list[0:20]:\n",
    "    print(f\"{item[0]} - {item[1]}\")"
   ]
  },
  {
   "cell_type": "code",
   "execution_count": 14,
   "metadata": {},
   "outputs": [
    {
     "name": "stdout",
     "output_type": "stream",
     "text": [
      "fish - 140\n",
      "plants - 31\n",
      "mammals - 17\n",
      "amphibians - 16\n",
      "arthropods - 8\n",
      "birds - 7\n",
      "insects - 7\n",
      "reptiles - 5\n",
      "copepods - 3\n",
      "bryophytes - 2\n"
     ]
    }
   ],
   "source": [
    "curr_list = hotwords\n",
    "curr_list = Counter(curr_list)\n",
    "curr_list = [[key, val] for key, val in curr_list.items() if key]\n",
    "curr_list = sorted(curr_list, key = lambda curr_list: curr_list[1], reverse=True)\n",
    "\n",
    "for item in curr_list[0:20]:\n",
    "    print(f\"{item[0]} - {item[1]}\")"
   ]
  },
  {
   "cell_type": "code",
   "execution_count": 15,
   "metadata": {},
   "outputs": [
    {
     "name": "stdout",
     "output_type": "stream",
     "text": [
      "Animals - 267\n",
      "DNA - 237\n",
      "Phylogeny - 180\n",
      "Sequence Analysis, DNA - 161\n",
      "Molecular Sequence Data - 160\n",
      "Biodiversity - 145\n",
      "Polymerase Chain Reaction - 135\n",
      "Ecosystem - 134\n",
      "DNA, Bacterial - 121\n",
      "Environmental Monitoring - 113\n",
      "Bacteria - 103\n",
      "Metagenomics - 99\n",
      "RNA, Ribosomal, 16S - 87\n",
      "DNA Barcoding, Taxonomic - 84\n",
      "Soil Microbiology - 84\n",
      "Base Sequence - 75\n",
      "DNA, Ribosomal - 73\n",
      "DNA Primers - 71\n",
      "Gene Library - 71\n",
      "Geologic Sediments - 64\n"
     ]
    }
   ],
   "source": [
    "curr_list = term_ids\n",
    "curr_list = Counter(curr_list)\n",
    "curr_list = [[key, val] for key, val in curr_list.items() if key]\n",
    "curr_list = sorted(curr_list, key = lambda curr_list: curr_list[1], reverse=True)\n",
    "\n",
    "for item in curr_list[0:20]:\n",
    "    print(f\"{term_names[item[0]]} - {item[1]}\")"
   ]
  },
  {
   "cell_type": "code",
   "execution_count": null,
   "metadata": {},
   "outputs": [],
   "source": []
  }
 ],
 "metadata": {
  "kernelspec": {
   "display_name": "Python 3",
   "language": "python",
   "name": "python3"
  },
  "language_info": {
   "codemirror_mode": {
    "name": "ipython",
    "version": 3
   },
   "file_extension": ".py",
   "mimetype": "text/x-python",
   "name": "python",
   "nbconvert_exporter": "python",
   "pygments_lexer": "ipython3",
   "version": "3.6.8"
  }
 },
 "nbformat": 4,
 "nbformat_minor": 2
}
